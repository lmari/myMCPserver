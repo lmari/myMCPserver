{
 "cells": [
  {
   "cell_type": "code",
   "execution_count": 2,
   "id": "c2053b86",
   "metadata": {},
   "outputs": [
    {
     "name": "stdout",
     "output_type": "stream",
     "text": [
      "True\n"
     ]
    }
   ],
   "source": [
    "import client_tools\n",
    "\n",
    "#MCP_client = await client_tools.connect_to_MCP_server()\n",
    "MCP_client = await client_tools.connect_to_MCP_server(\"server.py\") # in questo caso il server viene messo in esecuzione direttamente dal client\n",
    "#MCP_client = await client_tools.connect_to_MCP_server(\"/home/lucamari/Bin/myMCPserver/.venv/lib64/python3.13/site-packages/mcp_server_calculator/__main__.py\")\n",
    "print(await client_tools.is_connected(MCP_client))\n",
    "\n",
    "MCP_server_tools = await client_tools.get_tool_list(MCP_client)\n",
    "tool_schemas = client_tools.get_tool_schemas(MCP_server_tools)"
   ]
  },
  {
   "cell_type": "code",
   "execution_count": 12,
   "id": "7ae8477e",
   "metadata": {},
   "outputs": [
    {
     "name": "stdout",
     "output_type": "stream",
     "text": [
      "Function(arguments='{\"code\":\"import math\\\\nmath.sqrt(10)\"}', name='evaluate_expression')\n"
     ]
    }
   ],
   "source": [
    "model = await client_tools.connect_to_model()\n",
    "#model_response = client_tools.do(model, \"Generi tre numeri casuali tra 100 e 200?\", tool_schemas)\n",
    "model_response = client_tools.do(model, \"Qual è la radice quadrata di 10?\", tool_schemas)\n",
    "#model_response = client_tools.do(model, \"Quanto fa 3 elevato alla terza potenza?\", tool_schemas)\n",
    "for tool_call in model_response.choices[0].message.tool_calls: # type: ignore\n",
    "    print(tool_call.function)"
   ]
  },
  {
   "cell_type": "code",
   "execution_count": 13,
   "id": "00599059",
   "metadata": {},
   "outputs": [
    {
     "name": "stdout",
     "output_type": "stream",
     "text": [
      "3.1622776601683795\n"
     ]
    }
   ],
   "source": [
    "result = await client_tools.call_MCP_server(MCP_client, model_response)\n",
    "print(result)"
   ]
  }
 ],
 "metadata": {
  "kernelspec": {
   "display_name": ".venv",
   "language": "python",
   "name": "python3"
  },
  "language_info": {
   "codemirror_mode": {
    "name": "ipython",
    "version": 3
   },
   "file_extension": ".py",
   "mimetype": "text/x-python",
   "name": "python",
   "nbconvert_exporter": "python",
   "pygments_lexer": "ipython3",
   "version": "3.13.3"
  }
 },
 "nbformat": 4,
 "nbformat_minor": 5
}
