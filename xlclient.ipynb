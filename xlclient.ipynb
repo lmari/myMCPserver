{
 "cells": [
  {
   "cell_type": "markdown",
   "id": "37c3c24f",
   "metadata": {},
   "source": [
    "### Un tutorial (preliminare ed elementare) su MCP con FastMCP 2.0\n",
    "\n",
    "Luca Mari, maggio 2025\n",
    "\n",
    "MCP (_Model Context Protocol_) è un protocollo applicativo client-server \"di alto livello\", una sorta di \"meta-HTTP\".  \n",
    "FastMCP 2.0 è un modulo Python (https://gofastmcp.com/getting-started/welcome) che semplifica la realizzazione di client e server MCP, e perciò -- dato lo scopo solo didattico di questo tutorial -- lo useremo qui, costruendo un server che espone alcuni endpoint per operare su file xlsx ([`xlserver.py`), impiegando alcune funzioni Python (in `client_tools.py`](https://huggingface.co/)) per nascondere ulteriormente i dettagli non specificamente rilevanti, e sperimentando variamente in questo notebook.\n",
    "\n",
    "Per mantenere il contesto il più semplice possibile:\n",
    "* useremo un modello di linguaggio di piccole dimensioni e in esecuzione locale, per esempio Gemma3-4b oppure Qwen3-4b mediante [LM Studio](https://lmstudio.ai) (tutti liberamente scaricabili da [Hugging Face](https://huggingface.co)) (non spieghiamo qui come attivare un modello di linguaggio in locale);\n",
    "* eseguiremo il server MCP direttamente sul sistema operativo locale, invece che in remoto o all'interno di un container.\n",
    "\n",
    "Insomma, una volta installato quanto occorre, questo tutorial può essere eseguito anche disconnessi da internet. La documentazione e l'interazione saranno in italiano, per mostrare le capacità multilingue dei modelli di linguaggio anche di piccole dimensioni.\n",
    "\n",
    "### Preliminari\n",
    "\n",
    "* Installare un interprete Python.\n",
    "* Creare un ambiente virtuale Python e attivarlo.\n",
    "* Copiare nell'ambiente virtuale questo notebook (`xlclient.ipynb`) e i due file `xlserver.py` e `client_tools.py`.\n",
    "* Installare nell'ambiente virtuale i moduli `fastmcp`, `openai` (per l'accesso all'API di OpenAI, anche in locale), e `openpyxl` (per operare su file xlsx).\n",
    "* Installare quanto serve per rendere accessibile un modello di linguaggio in locale via l'API di OpenAI)."
   ]
  },
  {
   "cell_type": "markdown",
   "id": "b143f207",
   "metadata": {},
   "source": [
    "### Attivazione del server\n",
    "\n",
    "Come in ogni interazione client-server, è necessario prima di tutto che il server sia attivo e raggiungibile. MCP consente interazioni sia via standard io sia via http. Eseguire perciò dalla linea di comando:\n",
    "* `python xlserver.py stdio`  \n",
    "oppure per esempio:\n",
    "* `python xlserver.py http 127.0.0.1 8000`"
   ]
  },
  {
   "cell_type": "markdown",
   "id": "ac173b8c",
   "metadata": {},
   "source": [
    "### Connessione del client al server\n",
    "\n",
    "In base a come si è eseguito il server, se via stdio o http, si può connettere il client scegliendo l'indirizzo a cui connettersi."
   ]
  },
  {
   "cell_type": "code",
   "execution_count": 3,
   "id": "c2053b86",
   "metadata": {},
   "outputs": [
    {
     "name": "stdout",
     "output_type": "stream",
     "text": [
      "True\n"
     ]
    }
   ],
   "source": [
    "import client_tools\n",
    "\n",
    "#server_address = \"xlserver.py\" # per connettersi al server via stdio\n",
    "server_address = \"http://127.0.0.1:8000/mcp\" # per connettersi al server via http\n",
    "\n",
    "MCP_client = await client_tools.connect_to_MCP_server(server_address)\n",
    "try:\n",
    "    print(await client_tools.is_connected(MCP_client))\n",
    "except Exception:\n",
    "    print(f\"Errore nella connessione...\")"
   ]
  },
  {
   "cell_type": "markdown",
   "id": "98af3f86",
   "metadata": {},
   "source": [
    "### Interazione del client con il server\n",
    "\n",
    "Una volta connesso al server, il client può chiedere prima di tutto l'elenco degli strumenti messi a disposizione del server, la cui documentazione è visualizzabile come una lista di schemi JSON.  \n",
    "Questi strumenti sono funzioni Python, implementate in `xlserver.py` e decorate con `@mcp.tool()`."
   ]
  },
  {
   "cell_type": "code",
   "execution_count": 4,
   "id": "18f6587c",
   "metadata": {},
   "outputs": [
    {
     "data": {
      "text/plain": [
       "[{'type': 'function',\n",
       "  'function': {'name': 'create_workbook',\n",
       "   'description': 'Crea un file xlsx dal nome specificato. ',\n",
       "   'parameters': {'type': 'object',\n",
       "    'properties': {'filename': {'description': 'Il nome del file xlsx da creare',\n",
       "      'title': 'Filename',\n",
       "      'type': 'string'}},\n",
       "    'required': ['filename']}}},\n",
       " {'type': 'function',\n",
       "  'function': {'name': 'write_data_in_cell',\n",
       "   'description': 'Assumendo che il file xlsx specificato già esista e non debba essere creato, scrive il valore o la formula specificati nella cella specificata. ',\n",
       "   'parameters': {'type': 'object',\n",
       "    'properties': {'filename': {'description': 'Il nome del file xlsx in cui scrivere i dati',\n",
       "      'title': 'Filename',\n",
       "      'type': 'string'},\n",
       "     'cell': {'description': 'La cella in cui scrivere',\n",
       "      'title': 'Cell',\n",
       "      'type': 'string'},\n",
       "     'data': {'description': 'Il valore o la formula da scrivere nella cella',\n",
       "      'title': 'Data'}},\n",
       "    'required': ['filename', 'cell', 'data']}}},\n",
       " {'type': 'function',\n",
       "  'function': {'name': 'write_data_in_range',\n",
       "   'description': 'Assumendo che il file xlsx specificato già esista e non debba essere creato, scrive la lista specificata di valori o di formule nel range di celle specificato.\\nSe il range è un vettore, i dati sono specificati come una lista; se il range è una matrice, i dati sono specificati come una lista di liste. ',\n",
       "   'parameters': {'type': 'object',\n",
       "    'properties': {'filename': {'description': 'Il nome del file xlsx in cui scrivere i dati',\n",
       "      'title': 'Filename',\n",
       "      'type': 'string'},\n",
       "     'first_cell': {'description': 'La prima cella del range in cui scrivere',\n",
       "      'title': 'First Cell',\n",
       "      'type': 'string'},\n",
       "     'last_cell': {'description': \"L'ultima cella del range in cui scrivere\",\n",
       "      'title': 'Last Cell',\n",
       "      'type': 'string'},\n",
       "     'data': {'description': 'La lista o la lista di liste di valori o di formule da scrivere nel range',\n",
       "      'items': {},\n",
       "      'title': 'Data',\n",
       "      'type': 'array'}},\n",
       "    'required': ['filename', 'first_cell', 'last_cell', 'data']}}}]"
      ]
     },
     "execution_count": 4,
     "metadata": {},
     "output_type": "execute_result"
    }
   ],
   "source": [
    "MCP_server_tools = await client_tools.get_tool_list(MCP_client)\n",
    "tool_schemas = client_tools.get_tool_schemas(MCP_server_tools)\n",
    "tool_schemas"
   ]
  },
  {
   "cell_type": "markdown",
   "id": "4463c980",
   "metadata": {},
   "source": [
    "Questi schemi JSON mostrano quali richieste un client MCP può inviare al server, specificando il nome di uno strumento, dunque di una funzione Python, e gli eventuali parametri da passare. Si possono perciò inviare richieste indipendentemente dall'uso di un modello di linguaggio, come in questo esempio."
   ]
  },
  {
   "cell_type": "code",
   "execution_count": 5,
   "id": "fd71b91a",
   "metadata": {},
   "outputs": [
    {
     "name": "stdout",
     "output_type": "stream",
     "text": [
      "'File prova.xlsx creato con successo.'\n",
      "'Dati scritti nel file prova.xlsx con successo.'\n"
     ]
    }
   ],
   "source": [
    "function_name = \"create_workbook\"\n",
    "function_arguments = {\"filename\": \"prova.xlsx\"}\n",
    "function_name2 = \"write_data_in_cell\"\n",
    "function_arguments2 = {\"filename\": \"prova.xlsx\", \"cell\": \"A1\", \"data\": 1234}\n",
    "\n",
    "async with MCP_client:\n",
    "    client_tools.print_msgs(await client_tools.lowlevel_call_MCP_server(MCP_client, function_name, function_arguments))\n",
    "    client_tools.print_msgs(await client_tools.lowlevel_call_MCP_server(MCP_client, function_name2, function_arguments2))"
   ]
  },
  {
   "cell_type": "markdown",
   "id": "f4afe519",
   "metadata": {},
   "source": [
    "A questo punto, e assumendo che un modello di linguaggio sia raggiungibile,\n",
    "1. lo si può interpellare, inviandogli richieste in italiano che il modello traduce in richieste in formato JSON, grazie alle capacità di _function calling_ del modello stesso (se si usa Qwen3 si può provare ad aggiungere in fondo alla richiesta lo switch `/no_think` per rendere l'elaborazione più rapida),\n",
    "2. richieste che il client MCP invia al server MCP,\n",
    "3. che le esegue e produce il risultato richiesto."
   ]
  },
  {
   "cell_type": "code",
   "execution_count": 6,
   "id": "7ae8477e",
   "metadata": {},
   "outputs": [
    {
     "name": "stdout",
     "output_type": "stream",
     "text": [
      "[Function(arguments='{\"filename\":\"prova.xlsx\"}', name='create_workbook')]\n",
      "'File prova.xlsx creato con successo.'\n"
     ]
    }
   ],
   "source": [
    "model = await client_tools.connect_to_model() # per connettersi al modello via http con i parametri di default di LM Studio\n",
    "\n",
    "prompt = \"Crea un file Excel chiamato 'prova.xlsx'. /no_think.\"\n",
    "model_response = client_tools.do(model, prompt, tool_schemas) # passo 1\n",
    "client_tools.print_tools([tool_call.function for tool_call in model_response.choices[0].message.tool_calls]) # passo 2 # type: ignore\n",
    "client_tools.print_msgs(await client_tools.call_MCP_server(MCP_client, model_response)) # passo 3"
   ]
  },
  {
   "cell_type": "markdown",
   "id": "abd9efcd",
   "metadata": {},
   "source": [
    "È interessante che, nonostante le sue piccole dimensioni, il modello di linguaggio è in grado di \"comprendere\" se una richiesta che ha ricevuto deve essere tradotta in una successione di più chiamate a strumenti."
   ]
  },
  {
   "cell_type": "code",
   "execution_count": 7,
   "id": "e90c465c",
   "metadata": {},
   "outputs": [
    {
     "name": "stdout",
     "output_type": "stream",
     "text": [
      "[   Function(arguments='{\"filename\":\"prova.xlsx\"}', name='create_workbook'),\n",
      "    Function(arguments='{\"filename\":\"prova.xlsx\",\"cell\":\"A1\",\"data\":1234}', name='write_data_in_cell')]\n",
      "'File prova.xlsx creato con successo.'\n",
      "'Dati scritti nel file prova.xlsx con successo.'\n"
     ]
    }
   ],
   "source": [
    "prompt = \"Crea un file Excel chiamato 'prova.xlsx' e scrivi il numero 1234 nella cella A1. /no_think.\"\n",
    "model_response = client_tools.do(model, prompt, tool_schemas)\n",
    "client_tools.print_tools([tool_call.function for tool_call in model_response.choices[0].message.tool_calls]) # type: ignore\n",
    "client_tools.print_msgs(await client_tools.call_MCP_server(MCP_client, model_response))"
   ]
  },
  {
   "cell_type": "markdown",
   "id": "59332801",
   "metadata": {},
   "source": [
    "Dato questo principio, quanto complesse possono essere le richieste traducibili in successioni di chiamate a strumenti diventa una questione di quanto sofisticato è il modello di linguaggio che si sta usando."
   ]
  },
  {
   "cell_type": "code",
   "execution_count": 8,
   "id": "6263be35",
   "metadata": {},
   "outputs": [
    {
     "name": "stdout",
     "output_type": "stream",
     "text": [
      "[   Function(arguments='{\"filename\":\"prova.xlsx\"}', name='create_workbook'),\n",
      "    Function(arguments='{\"filename\":\"prova.xlsx\",\"first_cell\":\"A1\",\"last_cell\":\"A5\",\"data\":[1,2,3,4,5]}', name='write_data_in_range'),\n",
      "    Function(arguments='{\"filename\":\"prova.xlsx\",\"first_cell\":\"B1\",\"last_cell\":\"B5\",\"data\":[\"=A1^2\",\"=A2^2\",\"=A3^2\",\"=A4^2\",\"=A5^2\"]}', name='write_data_in_range')]\n",
      "'File prova.xlsx creato con successo.'\n",
      "'Dati scritti nel file prova.xlsx con successo.'\n",
      "'Dati scritti nel file prova.xlsx con successo.'\n"
     ]
    }
   ],
   "source": [
    "prompt = \"\"\"Crea il file 'prova.xlsx', nelle celle da A1 ad A5 scrivi i numeri interi da 1 a 5,\n",
    "e nelle celle da B1 a B5 scrivi la formula per calcolare il quadrato del numero\n",
    "nella cella nella stessa riga della colonna A. /no_think.\"\"\"\n",
    "model_response = client_tools.do(model, prompt, tool_schemas)\n",
    "client_tools.print_tools([tool_call.function for tool_call in model_response.choices[0].message.tool_calls]) # type: ignore\n",
    "client_tools.print_msgs(await client_tools.call_MCP_server(MCP_client, model_response))"
   ]
  },
  {
   "cell_type": "code",
   "execution_count": 9,
   "id": "ecdf5e75",
   "metadata": {},
   "outputs": [
    {
     "name": "stdout",
     "output_type": "stream",
     "text": [
      "[   Function(arguments='{\"filename\":\"prova.xlsx\"}', name='create_workbook'),\n",
      "    Function(arguments='{\"filename\":\"prova.xlsx\",\"first_cell\":\"A1\",\"last_cell\":\"C5\",\"data\":[[\"=RAND()*(20-10)+10\",\"=RAND()*(20-10)+10\",\"=RAND()*(20-10)+10\"],[\"=RAND()*(20-10)+10\",\"=RAND()*(20-10)+10\",\"=RAND()*(20-10)+10\"],[\"=RAND()*(20-10)+10\",\"=RAND()*(20-10)+10\",\"=RAND()*(20-10)+10\"],[\"=RAND()*(20-10)+10\",\"=RAND()*(20-10)+10\",\"=RAND()*(20-10)+10\"],[\"=RAND()*(20-10)+10\",\"=RAND()*(20-10)+10\",\"=RAND()*(20-10)+10\"]]}', name='write_data_in_range')]\n",
      "'File prova.xlsx creato con successo.'\n",
      "'Dati scritti nel file prova.xlsx con successo.'\n"
     ]
    }
   ],
   "source": [
    "prompt = \"\"\"Crea il file 'prova.xlsx' e nelle celle da A1 a C5\n",
    "scrivi la formula per generare numeri casuali decimali tra 10 e 20. /no_think\"\"\"\n",
    "model_response = client_tools.do(model, prompt, tool_schemas)\n",
    "client_tools.print_tools([tool_call.function for tool_call in model_response.choices[0].message.tool_calls]) # type: ignore\n",
    "client_tools.print_msgs(await client_tools.call_MCP_server(MCP_client, model_response))"
   ]
  }
 ],
 "metadata": {
  "kernelspec": {
   "display_name": ".venv",
   "language": "python",
   "name": "python3"
  },
  "language_info": {
   "codemirror_mode": {
    "name": "ipython",
    "version": 3
   },
   "file_extension": ".py",
   "mimetype": "text/x-python",
   "name": "python",
   "nbconvert_exporter": "python",
   "pygments_lexer": "ipython3",
   "version": "3.13.3"
  }
 },
 "nbformat": 4,
 "nbformat_minor": 5
}
