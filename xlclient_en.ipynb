{
 "cells": [
  {
   "cell_type": "code",
   "execution_count": 11,
   "id": "c2053b86",
   "metadata": {},
   "outputs": [
    {
     "name": "stdout",
     "output_type": "stream",
     "text": [
      "True\n"
     ]
    }
   ],
   "source": [
    "import client_tools\n",
    "\n",
    "MCP_client = await client_tools.connect_to_MCP_server(\"xlserver_en.py\")\n",
    "print(await client_tools.is_connected(MCP_client))\n",
    "\n",
    "MCP_server_tools = await client_tools.get_tool_list(MCP_client)\n",
    "tool_schemas = client_tools.get_tool_schemas(MCP_server_tools)\n",
    "\n",
    "model = await client_tools.connect_to_model()"
   ]
  },
  {
   "cell_type": "code",
   "execution_count": null,
   "id": "7ae8477e",
   "metadata": {},
   "outputs": [
    {
     "name": "stdout",
     "output_type": "stream",
     "text": [
      "[Function(arguments='{\"filename\":\"trial.xlsx\"}', name='create_workbook')]\n",
      "'File trial.xlsx successfully created.'\n"
     ]
    }
   ],
   "source": [
    "model_response = client_tools.do(model, \"Create the file 'trial.xlsx'.\", tool_schemas)\n",
    "client_tools.print_tools([tool_call.function for tool_call in model_response.choices[0].message.tool_calls]) # type: ignore\n",
    "client_tools.print_msgs(await client_tools.call_MCP_server(MCP_client, model_response))"
   ]
  },
  {
   "cell_type": "code",
   "execution_count": 5,
   "id": "00599059",
   "metadata": {},
   "outputs": [
    {
     "name": "stdout",
     "output_type": "stream",
     "text": [
      "[   Function(arguments='{\"filename\":\"trial.xlsx\",\"cell\":\"B2\",\"data\":\"1234\"}', name='write_data_in_cell')]\n",
      "'Dati scritti nel file trial.xlsx con successo.'\n"
     ]
    }
   ],
   "source": [
    "model_response = client_tools.do(model, \"Write the number 1234 in cell 'B2' of the file 'trial.xlsx'.\", tool_schemas)\n",
    "client_tools.print_tools([tool_call.function for tool_call in model_response.choices[0].message.tool_calls]) # type: ignore\n",
    "client_tools.print_msgs(await client_tools.call_MCP_server(MCP_client, model_response))"
   ]
  },
  {
   "cell_type": "code",
   "execution_count": 5,
   "id": "e90c465c",
   "metadata": {},
   "outputs": [
    {
     "name": "stdout",
     "output_type": "stream",
     "text": [
      "[   Function(arguments='{\"filename\":\"trial.xlsx\"}', name='create_workbook'),\n",
      "    Function(arguments='{\"filename\":\"trial.xlsx\",\"cell\":\"C3\",\"data\":\"12345\"}', name='write_data_in_cell')]\n",
      "'File trial.xlsx successfully created.'\n",
      "'Data successfully written in file trial.xlsx.'\n"
     ]
    }
   ],
   "source": [
    "model_response = client_tools.do(model, \"Create the file 'trial.xlsx' and write the number 12345 in cell C3.\", tool_schemas)\n",
    "client_tools.print_tools([tool_call.function for tool_call in model_response.choices[0].message.tool_calls]) # type: ignore\n",
    "client_tools.print_msgs(await client_tools.call_MCP_server(MCP_client, model_response))"
   ]
  },
  {
   "cell_type": "code",
   "execution_count": 6,
   "id": "e4f2139a",
   "metadata": {},
   "outputs": [
    {
     "name": "stdout",
     "output_type": "stream",
     "text": [
      "[   Function(arguments='{\"filename\":\"trial.xlsx\",\"cell\":\"A2\",\"data\":\"=RAND()}\"}', name='write_data_in_cell')]\n",
      "'Data successfully written in file trial.xlsx.'\n"
     ]
    }
   ],
   "source": [
    "model_response = client_tools.do(model, \"In cell 'A2' of file 'trial.xlsx' write the formula to generate a random decimal number between 0 and 1.\", tool_schemas)\n",
    "client_tools.print_tools([tool_call.function for tool_call in model_response.choices[0].message.tool_calls]) # type: ignore\n",
    "client_tools.print_msgs(await client_tools.call_MCP_server(MCP_client, model_response))"
   ]
  },
  {
   "cell_type": "code",
   "execution_count": 15,
   "id": "6263be35",
   "metadata": {},
   "outputs": [
    {
     "name": "stdout",
     "output_type": "stream",
     "text": [
      "[   Function(arguments='{\"filename\":\"one.xlsx\"}', name='create_workbook'),\n",
      "    Function(arguments='{\"filename\":\"one.xlsx\",\"first_cell\":\"A1\",\"last_cell\":\"A5\",\"data\":[6,7,8,9,10]}', name='write_data_in_range'),\n",
      "    Function(arguments='{\"filename\":\"one.xlsx\",\"first_cell\":\"B1\",\"last_cell\":\"B5\",\"data\":[\"=A1^2\",\"=A2^2\",\"=A3^2\",\"=A4^2\",\"=A5^2\"]}', name='write_data_in_range')]\n",
      "'File one.xlsx successfully created.'\n",
      "'Data successfully written in file one.xlsx.'\n",
      "'Data successfully written in file one.xlsx.'\n"
     ]
    }
   ],
   "source": [
    "model_response = client_tools.do(model, \"\"\"\n",
    "        Create the file 'one.xlsx',\n",
    "        in cells from A1 to A5 write the integer numbers from 6 to 10,\n",
    "        and in each of the cell from B1 to B5 write the formula to compute the square of the number in the cell at the left in the same row. /no_think\"\"\", tool_schemas)\n",
    "client_tools.print_tools([tool_call.function for tool_call in model_response.choices[0].message.tool_calls]) # type: ignore\n",
    "client_tools.print_msgs(await client_tools.call_MCP_server(MCP_client, model_response))"
   ]
  }
 ],
 "metadata": {
  "kernelspec": {
   "display_name": ".venv",
   "language": "python",
   "name": "python3"
  },
  "language_info": {
   "codemirror_mode": {
    "name": "ipython",
    "version": 3
   },
   "file_extension": ".py",
   "mimetype": "text/x-python",
   "name": "python",
   "nbconvert_exporter": "python",
   "pygments_lexer": "ipython3",
   "version": "3.13.3"
  }
 },
 "nbformat": 4,
 "nbformat_minor": 5
}
