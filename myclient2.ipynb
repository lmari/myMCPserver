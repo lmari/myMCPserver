{
 "cells": [
  {
   "cell_type": "code",
   "execution_count": 7,
   "id": "c2053b86",
   "metadata": {},
   "outputs": [
    {
     "name": "stdout",
     "output_type": "stream",
     "text": [
      "True\n"
     ]
    }
   ],
   "source": [
    "import client_tools\n",
    "\n",
    "MCP_client = await client_tools.connect_to_MCP_server(\"http://127.0.0.1:8000/sse\")\n",
    "print(await client_tools.is_connected(MCP_client))\n",
    "\n",
    "MCP_server_tools = await client_tools.get_tool_list(MCP_client)\n",
    "tool_schemas = client_tools.get_tool_schemas(MCP_server_tools)\n",
    "#print(client_tools.get_tool_names(tool_schemas))"
   ]
  },
  {
   "cell_type": "code",
   "execution_count": 8,
   "id": "53dc5454",
   "metadata": {},
   "outputs": [
    {
     "name": "stdout",
     "output_type": "stream",
     "text": [
      "Function(arguments='{\"filepath\":\"pippo.xlsx\"}', name='create_workbook')\n",
      "Function(arguments='{\"filepath\":\"pippo.xlsx\",\"sheet_name\":\"Sheet1\",\"data\":[[1,2,3],[4,5,6],[7,8,9],[10,11,12],[13,14,15],[16,17,18],[19,20,21]]}', name='write_data_to_excel')\n",
      "['Created workbook at ./excel_files/pippo.xlsx', 'Data written to Sheet1']\n"
     ]
    }
   ],
   "source": [
    "model = await client_tools.connect_to_model()\n",
    "model_response = client_tools.do(model, \"Crei il file 'pippo.xlsx' o se esiste già cancelli il suo contenuto, e nella colonna A scrivi la serie dei numeri interi da 1 a 20?\", tool_schemas)\n",
    "for tool_call in model_response.choices[0].message.tool_calls: # type: ignore\n",
    "    print(tool_call.function)\n",
    "\n",
    "result = await client_tools.call_MCP_server(MCP_client, model_response)\n",
    "print(result)"
   ]
  }
 ],
 "metadata": {
  "kernelspec": {
   "display_name": ".venv",
   "language": "python",
   "name": "python3"
  },
  "language_info": {
   "codemirror_mode": {
    "name": "ipython",
    "version": 3
   },
   "file_extension": ".py",
   "mimetype": "text/x-python",
   "name": "python",
   "nbconvert_exporter": "python",
   "pygments_lexer": "ipython3",
   "version": "3.13.3"
  }
 },
 "nbformat": 4,
 "nbformat_minor": 5
}
